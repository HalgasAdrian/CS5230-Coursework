{
  "nbformat": 4,
  "nbformat_minor": 0,
  "metadata": {
    "colab": {
      "provenance": [],
      "authorship_tag": "ABX9TyPC33oU9qe1h20vZXnImAnH"
    },
    "kernelspec": {
      "name": "python3",
      "display_name": "Python 3"
    },
    "language_info": {
      "name": "python"
    }
  },
  "cells": [
    {
      "cell_type": "markdown",
      "source": [
        "HW4 Pytorch: Classification, Autoencoders, Word Embedding, Image Features, LSTM\n",
        "\n",
        "PROBLEM 1: Setup a tensor library [Optional, no credit]\n",
        "\n",
        "A) Setup your favorite tensor-based library for deep learning, such as PyTorch or TensorFlow, and familiarize yourself with its basic usage. If using PyTorch, you can test if it is installed properly with (in Python):\n",
        "\n",
        "B) Train a simple feed-forward neural network on the MNIST dataset with 80/20 train and test splits and report results\n",
        "\n"
      ],
      "metadata": {
        "id": "e79WDeGL5KHO"
      }
    },
    {
      "cell_type": "code",
      "execution_count": null,
      "metadata": {
        "id": "9RNI1Gxm39_T"
      },
      "outputs": [],
      "source": []
    },
    {
      "cell_type": "markdown",
      "source": [
        "PROBLEM 2 : NNet supervised classification with tuned word vectors\n",
        "\n",
        "Train a neural network on a sizeable subset of 20NG (say, at least 5 categories)\n"
      ],
      "metadata": {
        "id": "YwfTwfbz5otR"
      }
    },
    {
      "cell_type": "code",
      "source": [],
      "metadata": {
        "id": "OxLzaoaM5sYB"
      },
      "execution_count": null,
      "outputs": []
    },
    {
      "cell_type": "markdown",
      "source": [
        "PROBLEM 3 [Optional, no credit]: Autoencoders\n",
        "\n",
        "You can pick your own text to fine tune word vectors, if its reasonable in size and very domain-specific (compared to general English). Suggestions:\n",
        "- Alice in Wonderland\n",
        "- Sonnets\n",
        "- specific categories (labels) from 20NG or Reurters datasets\n",
        "- use your favorite specific text (like a book, or project)\n"
      ],
      "metadata": {
        "id": "l1j-1GDn5s82"
      }
    },
    {
      "cell_type": "code",
      "source": [],
      "metadata": {
        "id": "BsUvzwxP5wbf"
      },
      "execution_count": null,
      "outputs": []
    },
    {
      "cell_type": "markdown",
      "source": [
        "PROBLEM 4 [Optional, no credit]: Autoencoders\n",
        "\n",
        "For each one of the datasets MNIST, 20NG (required) and SPAMBASE, FASHION (optional) run as an autoencoder with pytorch with a desired hidden layer size (try K=5,10, 20, 100, 200)- what is the smaleest K that works?).\n",
        "\n",
        "Load the data with dataloader https://pytorch.org/tutorials/beginner/basics/data_tutorial.html\n",
        "\n",
        "Construct an Autoencoder with the following architecture :\n",
        "\n",
        "Two linear layers with in features matching the dimensions of input and out\n",
        "\n",
        "features matching the size of K\n",
        "\n",
        "Two linear layers with in features matching K and size of out features matching the size of input dimensions.\n",
        "\n",
        "Define a forward pass with relu\n",
        "\n",
        "Code a train loop with number of epochs as 10.\n",
        "\n",
        "Define loss and Optimizer (Adam)\n",
        "\n",
        "Train the model\n",
        "\n",
        "use gpu if available\n",
        "\n",
        "use mean-squared error loss\n",
        "\n",
        "create a model from Autoencoder class load it to the specified device, either gpu or cpu\n",
        "\n",
        "Verify the obtained re-encoding of data (the new feature representation) in several ways:\n",
        "\n",
        "repeat a classification train/test task , or a clustering taks\n",
        "examine the new pairwise distances dist(i,j) agains the old distances obtained with original features (sample 100 pairs of related words)\n",
        "examine the top 20 neighbors (by new distance) set overlap with old neighbors, per datapoint\n",
        "for images, rebuild the image form output layer and draw to look at it\n"
      ],
      "metadata": {
        "id": "2RUiT9_w5ytm"
      }
    },
    {
      "cell_type": "code",
      "source": [],
      "metadata": {
        "id": "2O0PNpMQ6EDq"
      },
      "execution_count": null,
      "outputs": []
    },
    {
      "cell_type": "markdown",
      "source": [
        "PROBLEM 5 [Optional, no credit]: Image Feature Extraction\n",
        "\n",
        "Run a Convolutional Neural Network in pytorch to extract image features. In practice the network usually does both the feature extraction and the supervised task (classification) in one pipeline.\n"
      ],
      "metadata": {
        "id": "MqknZXDI6Hak"
      }
    },
    {
      "cell_type": "code",
      "source": [],
      "metadata": {
        "id": "uCITaHzP6JzO"
      },
      "execution_count": null,
      "outputs": []
    },
    {
      "cell_type": "markdown",
      "source": [
        "PROBLEM 6 [Optional, no credit]: LSTM for text\n",
        "\n",
        "Run a Recurrent Neural Network/LSTM in Pytorch to model word dependecies/order in text. Can be use for translation, next-word prediction, event detection etc.\n"
      ],
      "metadata": {
        "id": "mrTmQwMs6LQa"
      }
    },
    {
      "cell_type": "code",
      "source": [],
      "metadata": {
        "id": "tl4bvyxO6N5W"
      },
      "execution_count": null,
      "outputs": []
    }
  ]
}