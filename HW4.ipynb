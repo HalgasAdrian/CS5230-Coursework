{
  "nbformat": 4,
  "nbformat_minor": 0,
  "metadata": {
    "colab": {
      "provenance": [],
      "machine_shape": "hm",
      "gpuType": "V5E1",
      "authorship_tag": "ABX9TyP69yd8etPjwCQE3BmVvW7+"
    },
    "kernelspec": {
      "name": "python3",
      "display_name": "Python 3"
    },
    "language_info": {
      "name": "python"
    },
    "accelerator": "TPU"
  },
  "cells": [
    {
      "cell_type": "markdown",
      "source": [
        "HW4 Pytorch: Classification, Autoencoders, Word Embedding, Image Features, LSTM\n",
        "\n",
        "PROBLEM 1: Setup a tensor library [Optional, no credit]\n",
        "\n",
        "A) Setup your favorite tensor-based library for deep learning, such as PyTorch or TensorFlow, and familiarize yourself with its basic usage. If using PyTorch, you can test if it is installed properly with (in Python):\n",
        "\n",
        "B) Train a simple feed-forward neural network on the MNIST dataset with 80/20 train and test splits and report results\n",
        "\n"
      ],
      "metadata": {
        "id": "e79WDeGL5KHO"
      }
    },
    {
      "cell_type": "code",
      "execution_count": 2,
      "metadata": {
        "id": "9RNI1Gxm39_T",
        "colab": {
          "base_uri": "https://localhost:8080/"
        },
        "outputId": "0e995f4b-16b5-4f7d-d61c-009aa1f7ecd4"
      },
      "outputs": [
        {
          "output_type": "stream",
          "name": "stdout",
          "text": [
            "Epoch 1, Loss: 219.8138\n",
            "Epoch 2, Loss: 52.8084\n",
            "Epoch 3, Loss: 36.8860\n",
            "Epoch 4, Loss: 29.0962\n",
            "Epoch 5, Loss: 22.8169\n",
            "Test Accuracy: 98.77%\n"
          ]
        }
      ],
      "source": [
        "import torch\n",
        "import torch.nn as nn\n",
        "import torch.optim as optim\n",
        "from torchvision import datasets, transforms\n",
        "from torch.utils.data import DataLoader, random_split\n",
        "import torch.nn.functional as F\n",
        "\n",
        "# Device config\n",
        "device = torch.device(\"cuda\" if torch.cuda.is_available() else \"cpu\")\n",
        "\n",
        "# Hyperparameters\n",
        "batch_size = 64\n",
        "learning_rate = 0.01\n",
        "momentum = 0.9\n",
        "epochs = 5  # You can increase for better accuracy\n",
        "\n",
        "# MNIST dataset (download + transform)\n",
        "transform = transforms.Compose([\n",
        "    transforms.ToTensor(),\n",
        "    transforms.Normalize((0.1307,), (0.3081,))\n",
        "])\n",
        "\n",
        "# Load full dataset\n",
        "full_dataset = datasets.MNIST(root='./data', train=True, download=True, transform=transform)\n",
        "\n",
        "# 80/20 split\n",
        "train_size = int(0.8 * len(full_dataset))\n",
        "test_size = len(full_dataset) - train_size\n",
        "train_dataset, test_dataset = random_split(full_dataset, [train_size, test_size])\n",
        "\n",
        "# Dataloaders\n",
        "train_loader = DataLoader(train_dataset, batch_size=batch_size, shuffle=True)\n",
        "test_loader = DataLoader(test_dataset, batch_size=batch_size, shuffle=False)\n",
        "\n",
        "# Neural Net Model\n",
        "class CNN(nn.Module):\n",
        "    def __init__(self):\n",
        "        super(CNN, self).__init__()\n",
        "        self.conv1 = nn.Conv2d(1, 32, kernel_size=3, padding=1)\n",
        "        self.conv2 = nn.Conv2d(32, 64, kernel_size=3, padding=1)\n",
        "        self.dropout = nn.Dropout2d(0.25)\n",
        "        self.fc1 = nn.Linear(64 * 7 * 7, 128)\n",
        "        self.fc2 = nn.Linear(128, 64)\n",
        "        self.fc3 = nn.Linear(64, 10)\n",
        "\n",
        "    def forward(self, x):\n",
        "      x = F.relu(self.conv1(x))\n",
        "      x = F.max_pool2d(x, 2)            # Pool after conv1\n",
        "      x = F.relu(self.conv2(x))\n",
        "      x = F.max_pool2d(x, 2)            # Pool after conv2\n",
        "      x = self.dropout(x)\n",
        "      x = torch.flatten(x, 1)           # Flatten\n",
        "      x = F.relu(self.fc1(x))\n",
        "      x = F.relu(self.fc2(x))\n",
        "      x = self.fc3(x)\n",
        "      return F.log_softmax(x, dim=1)\n",
        "\n",
        "\n",
        "model = CNN().to(device)\n",
        "\n",
        "# Optimizer and Loss\n",
        "optimizer = optim.SGD(model.parameters(), lr=learning_rate, momentum=momentum, nesterov=True)\n",
        "criterion = nn.NLLLoss()\n",
        "\n",
        "# Training loop\n",
        "for epoch in range(1, epochs + 1):\n",
        "    model.train()\n",
        "    total_loss = 0\n",
        "    for batch in train_loader:\n",
        "        data, target = batch\n",
        "        data, target = data.to(device), target.to(device)\n",
        "\n",
        "        optimizer.zero_grad()\n",
        "        output = model(data)\n",
        "        loss = criterion(output, target)\n",
        "        loss.backward()\n",
        "        optimizer.step()\n",
        "\n",
        "        total_loss += loss.item()\n",
        "    print(f\"Epoch {epoch}, Loss: {total_loss:.4f}\")\n",
        "\n",
        "# Evaluation\n",
        "model.eval()\n",
        "correct = 0\n",
        "total = 0\n",
        "with torch.no_grad():\n",
        "    for data, target in test_loader:\n",
        "        data, target = data.to(device), target.to(device)\n",
        "        output = model(data)\n",
        "        pred = output.argmax(dim=1)\n",
        "        correct += (pred == target).sum().item()\n",
        "        total += target.size(0)\n",
        "\n",
        "accuracy = 100. * correct / total\n",
        "print(f\"Test Accuracy: {accuracy:.2f}%\")"
      ]
    },
    {
      "cell_type": "markdown",
      "source": [
        "PROBLEM 2 : NNet supervised classification with tuned word vectors\n",
        "\n",
        "Train a neural network on a sizeable subset of 20NG (say, at least 5 categories)\n"
      ],
      "metadata": {
        "id": "YwfTwfbz5otR"
      }
    },
    {
      "cell_type": "markdown",
      "source": [
        "Setup and preprocessing:"
      ],
      "metadata": {
        "id": "8NM9MKOFpK6x"
      }
    },
    {
      "cell_type": "code",
      "source": [
        "!pip install --upgrade gensim"
      ],
      "metadata": {
        "id": "9h6tlGFcqWGG",
        "outputId": "36b9a405-bef3-4954-e619-66f7a8da53e3",
        "colab": {
          "base_uri": "https://localhost:8080/"
        }
      },
      "execution_count": 37,
      "outputs": [
        {
          "output_type": "stream",
          "name": "stdout",
          "text": [
            "Requirement already satisfied: gensim in /usr/local/lib/python3.11/dist-packages (4.3.3)\n",
            "Requirement already satisfied: numpy<2.0,>=1.18.5 in /usr/local/lib/python3.11/dist-packages (from gensim) (1.26.4)\n",
            "Requirement already satisfied: scipy<1.14.0,>=1.7.0 in /usr/local/lib/python3.11/dist-packages (from gensim) (1.13.1)\n",
            "Requirement already satisfied: smart-open>=1.8.1 in /usr/local/lib/python3.11/dist-packages (from gensim) (7.1.0)\n",
            "Requirement already satisfied: wrapt in /usr/local/lib/python3.11/dist-packages (from smart-open>=1.8.1->gensim) (1.17.2)\n"
          ]
        }
      ]
    },
    {
      "cell_type": "code",
      "source": [
        "# STEP 2: Load and preprocess dataset\n",
        "from sklearn.datasets import fetch_20newsgroups\n",
        "from gensim.utils import simple_preprocess\n",
        "from collections import Counter\n",
        "import re\n",
        "\n",
        "# Load a subset of categories\n",
        "categories = ['comp.graphics', 'sci.space', 'rec.sport.baseball', 'talk.politics.misc', 'soc.religion.christian']\n",
        "newsgroups = fetch_20newsgroups(subset='train', categories=categories)\n",
        "texts, labels = newsgroups.data, newsgroups.target\n",
        "\n",
        "# Tokenize\n",
        "tokenized_texts = [simple_preprocess(text) for text in texts]\n",
        "\n",
        "# Filter short docs (important!)\n",
        "filtered = [(doc, label) for doc, label in zip(tokenized_texts, labels) if len(doc) >= 3]\n",
        "tokenized_texts, labels = zip(*filtered)"
      ],
      "metadata": {
        "id": "OxLzaoaM5sYB"
      },
      "execution_count": 38,
      "outputs": []
    },
    {
      "cell_type": "markdown",
      "source": [
        "Load GloVe and create Vocabulary"
      ],
      "metadata": {
        "id": "gd1p-534pNYt"
      }
    },
    {
      "cell_type": "code",
      "source": [
        "# STEP 3: Build vocabulary (after filtering)\n",
        "word_counts = Counter(word for doc in tokenized_texts for word in doc)\n",
        "vocab = {word: i+2 for i, (word, _) in enumerate(word_counts.items())}\n",
        "vocab['<PAD>'] = 0\n",
        "vocab['<UNK>'] = 1"
      ],
      "metadata": {
        "id": "z6B_9r7io3hE"
      },
      "execution_count": 39,
      "outputs": []
    },
    {
      "cell_type": "code",
      "source": [
        "# STEP 4: Load GloVe embeddings\n",
        "import numpy as np\n",
        "\n",
        "embedding_dim = 100\n",
        "glove_path = 'glove.6B.100d.txt'  # Make sure to upload this file in Colab\n",
        "embeddings_index = {}\n",
        "\n",
        "with open(glove_path, 'r', encoding='utf-8') as f:\n",
        "    for line in f:\n",
        "        values = line.split()\n",
        "        word = values[0]\n",
        "        vector = np.asarray(values[1:], dtype='float32')\n",
        "        embeddings_index[word] = vector\n",
        "\n",
        "# Create embedding matrix\n",
        "embedding_matrix = np.random.normal(0, 1, (len(vocab), embedding_dim))\n",
        "for word, idx in vocab.items():\n",
        "    if word in embeddings_index:\n",
        "        embedding_matrix[idx] = embeddings_index[word]"
      ],
      "metadata": {
        "id": "lAa1OTrwo47J"
      },
      "execution_count": 41,
      "outputs": []
    },
    {
      "cell_type": "markdown",
      "source": [
        "Converting Docs to Indices"
      ],
      "metadata": {
        "id": "GefFY6T-peAd"
      }
    },
    {
      "cell_type": "code",
      "source": [
        "# STEP 5: Convert tokens to indices, pad sequences\n",
        "import torch\n",
        "from torch.nn.utils.rnn import pad_sequence\n",
        "\n",
        "def doc2ind(doc):\n",
        "    return [vocab.get(token, vocab['<UNK>']) for token in doc]\n",
        "\n",
        "indexed_docs = [doc2ind(doc) for doc in tokenized_texts]\n",
        "padded_docs = pad_sequence([torch.tensor(doc) for doc in indexed_docs], batch_first=True, padding_value=vocab['<PAD>'])\n",
        "labels_tensor = torch.tensor(labels)"
      ],
      "metadata": {
        "id": "EqpWbDjMo70C"
      },
      "execution_count": 42,
      "outputs": []
    },
    {
      "cell_type": "markdown",
      "source": [
        "Create Dataset and Dataloader"
      ],
      "metadata": {
        "id": "U9AdU6IYpnZo"
      }
    },
    {
      "cell_type": "code",
      "source": [
        "# STEP 6: Dataset and DataLoader\n",
        "from torch.utils.data import TensorDataset, DataLoader, random_split\n",
        "\n",
        "dataset = TensorDataset(padded_docs, labels_tensor)\n",
        "train_len = int(0.8 * len(dataset))\n",
        "train_ds, val_ds = random_split(dataset, [train_len, len(dataset) - train_len])\n",
        "train_dl = DataLoader(train_ds, batch_size=64, shuffle=True)\n",
        "val_dl = DataLoader(val_ds, batch_size=64)"
      ],
      "metadata": {
        "id": "A_TSFQD5o-HX"
      },
      "execution_count": 43,
      "outputs": []
    },
    {
      "cell_type": "markdown",
      "source": [
        "Define our Neural Network"
      ],
      "metadata": {
        "id": "QgJZsWCDpqaP"
      }
    },
    {
      "cell_type": "code",
      "source": [
        "# STEP 7: Define model\n",
        "from torch import nn\n",
        "\n",
        "device = torch.device(\"cuda\" if torch.cuda.is_available() else \"cpu\")\n",
        "\n",
        "embedding_layer = nn.Embedding.from_pretrained(\n",
        "    torch.tensor(embedding_matrix, dtype=torch.float32),\n",
        "    freeze=False,\n",
        "    padding_idx=vocab['<PAD>']\n",
        ")\n",
        "\n",
        "class TextClassifier(nn.Module):\n",
        "    def __init__(self, embedding_layer, hidden_dim, num_classes):\n",
        "        super(TextClassifier, self).__init__()\n",
        "        self.embedding = embedding_layer\n",
        "        self.fc1 = nn.Linear(embedding_dim, hidden_dim)\n",
        "        self.dropout = nn.Dropout(0.3)\n",
        "        self.fc2 = nn.Linear(hidden_dim, num_classes)\n",
        "\n",
        "    def forward(self, x):\n",
        "        x = self.embedding(x)\n",
        "        x, _ = torch.max(x, dim=1)  # Max pooling\n",
        "        x = self.dropout(torch.relu(self.fc1(x)))\n",
        "        return self.fc2(x)\n",
        "\n",
        "model = TextClassifier(embedding_layer, hidden_dim=128, num_classes=len(categories)).to(device)"
      ],
      "metadata": {
        "id": "J15aoPJ5pAB6"
      },
      "execution_count": 44,
      "outputs": []
    },
    {
      "cell_type": "markdown",
      "source": [
        "Train the model"
      ],
      "metadata": {
        "id": "GInO4G-Kp3iD"
      }
    },
    {
      "cell_type": "code",
      "source": [
        "# STEP 8: Training loop with evaluation\n",
        "from sklearn.metrics import classification_report\n",
        "\n",
        "optimizer = torch.optim.Adam(model.parameters(), lr=1e-3)\n",
        "loss_fn = nn.CrossEntropyLoss()\n",
        "\n",
        "def evaluate(model, val_dl):\n",
        "    model.eval()\n",
        "    all_preds = []\n",
        "    all_labels = []\n",
        "    with torch.no_grad():\n",
        "        for x_batch, y_batch in val_dl:\n",
        "            x_batch, y_batch = x_batch.to(device), y_batch.to(device)\n",
        "            outputs = model(x_batch)\n",
        "            preds = torch.argmax(outputs, dim=1)\n",
        "            all_preds.extend(preds.cpu().numpy())\n",
        "            all_labels.extend(y_batch.cpu().numpy())\n",
        "    print(classification_report(all_labels, all_preds, target_names=categories))\n",
        "    acc = sum(np.array(all_preds) == np.array(all_labels)) / len(all_labels)\n",
        "    return 100 * acc\n",
        "\n",
        "for epoch in range(15):\n",
        "    model.train()\n",
        "    total_loss = 0\n",
        "    for x_batch, y_batch in train_dl:\n",
        "        x_batch, y_batch = x_batch.to(device), y_batch.to(device)\n",
        "        optimizer.zero_grad()\n",
        "        y_pred = model(x_batch)\n",
        "        loss = loss_fn(y_pred, y_batch)\n",
        "        loss.backward()\n",
        "        optimizer.step()\n",
        "        total_loss += loss.item()\n",
        "    val_acc = evaluate(model, val_dl)\n",
        "    print(f\"Epoch {epoch+1}, Loss: {total_loss:.4f}, Val Acc: {val_acc:.2f}%\")"
      ],
      "metadata": {
        "colab": {
          "base_uri": "https://localhost:8080/"
        },
        "id": "yDmHeN3DpBS2",
        "outputId": "b3286dc3-41f6-4d17-b29b-a429761dc97d"
      },
      "execution_count": 45,
      "outputs": [
        {
          "output_type": "stream",
          "name": "stdout",
          "text": [
            "                        precision    recall  f1-score   support\n",
            "\n",
            "         comp.graphics       0.50      0.01      0.02       111\n",
            "             sci.space       0.29      0.84      0.43       134\n",
            "    rec.sport.baseball       0.47      0.15      0.23       111\n",
            "    talk.politics.misc       0.34      0.39      0.36       122\n",
            "soc.religion.christian       0.45      0.06      0.10        90\n",
            "\n",
            "              accuracy                           0.32       568\n",
            "             macro avg       0.41      0.29      0.23       568\n",
            "          weighted avg       0.40      0.32      0.24       568\n",
            "\n",
            "Epoch 1, Loss: 58.1142, Val Acc: 32.04%\n",
            "                        precision    recall  f1-score   support\n",
            "\n",
            "         comp.graphics       0.32      0.17      0.22       111\n",
            "             sci.space       0.78      0.24      0.37       134\n",
            "    rec.sport.baseball       0.49      0.51      0.50       111\n",
            "    talk.politics.misc       0.35      0.85      0.50       122\n",
            "soc.religion.christian       0.46      0.28      0.35        90\n",
            "\n",
            "              accuracy                           0.42       568\n",
            "             macro avg       0.48      0.41      0.39       568\n",
            "          weighted avg       0.49      0.42      0.39       568\n",
            "\n",
            "Epoch 2, Loss: 56.7700, Val Acc: 41.73%\n",
            "                        precision    recall  f1-score   support\n",
            "\n",
            "         comp.graphics       0.36      0.23      0.28       111\n",
            "             sci.space       0.44      0.81      0.57       134\n",
            "    rec.sport.baseball       0.75      0.05      0.10       111\n",
            "    talk.politics.misc       0.40      0.76      0.53       122\n",
            "soc.religion.christian       0.50      0.07      0.12        90\n",
            "\n",
            "              accuracy                           0.42       568\n",
            "             macro avg       0.49      0.38      0.32       568\n",
            "          weighted avg       0.49      0.42      0.34       568\n",
            "\n",
            "Epoch 3, Loss: 55.0053, Val Acc: 42.08%\n"
          ]
        },
        {
          "output_type": "stream",
          "name": "stderr",
          "text": [
            "/usr/local/lib/python3.11/dist-packages/sklearn/metrics/_classification.py:1565: UndefinedMetricWarning: Precision is ill-defined and being set to 0.0 in labels with no predicted samples. Use `zero_division` parameter to control this behavior.\n",
            "  _warn_prf(average, modifier, f\"{metric.capitalize()} is\", len(result))\n",
            "/usr/local/lib/python3.11/dist-packages/sklearn/metrics/_classification.py:1565: UndefinedMetricWarning: Precision is ill-defined and being set to 0.0 in labels with no predicted samples. Use `zero_division` parameter to control this behavior.\n",
            "  _warn_prf(average, modifier, f\"{metric.capitalize()} is\", len(result))\n",
            "/usr/local/lib/python3.11/dist-packages/sklearn/metrics/_classification.py:1565: UndefinedMetricWarning: Precision is ill-defined and being set to 0.0 in labels with no predicted samples. Use `zero_division` parameter to control this behavior.\n",
            "  _warn_prf(average, modifier, f\"{metric.capitalize()} is\", len(result))\n"
          ]
        },
        {
          "output_type": "stream",
          "name": "stdout",
          "text": [
            "                        precision    recall  f1-score   support\n",
            "\n",
            "         comp.graphics       0.52      0.10      0.17       111\n",
            "             sci.space       0.70      0.66      0.68       134\n",
            "    rec.sport.baseball       0.35      0.94      0.51       111\n",
            "    talk.politics.misc       0.67      0.67      0.67       122\n",
            "soc.religion.christian       0.00      0.00      0.00        90\n",
            "\n",
            "              accuracy                           0.50       568\n",
            "             macro avg       0.45      0.47      0.41       568\n",
            "          weighted avg       0.48      0.50      0.44       568\n",
            "\n",
            "Epoch 4, Loss: 52.5151, Val Acc: 50.35%\n",
            "                        precision    recall  f1-score   support\n",
            "\n",
            "         comp.graphics       0.49      0.30      0.37       111\n",
            "             sci.space       0.81      0.65      0.72       134\n",
            "    rec.sport.baseball       0.54      0.90      0.68       111\n",
            "    talk.politics.misc       0.87      0.51      0.64       122\n",
            "soc.religion.christian       0.50      0.76      0.60        90\n",
            "\n",
            "              accuracy                           0.62       568\n",
            "             macro avg       0.64      0.62      0.60       568\n",
            "          weighted avg       0.66      0.62      0.61       568\n",
            "\n",
            "Epoch 5, Loss: 48.6968, Val Acc: 61.62%\n",
            "                        precision    recall  f1-score   support\n",
            "\n",
            "         comp.graphics       0.59      0.42      0.49       111\n",
            "             sci.space       0.81      0.78      0.79       134\n",
            "    rec.sport.baseball       0.60      0.79      0.68       111\n",
            "    talk.politics.misc       0.61      0.87      0.72       122\n",
            "soc.religion.christian       0.75      0.33      0.46        90\n",
            "\n",
            "              accuracy                           0.66       568\n",
            "             macro avg       0.67      0.64      0.63       568\n",
            "          weighted avg       0.67      0.66      0.64       568\n",
            "\n",
            "Epoch 6, Loss: 43.5816, Val Acc: 66.02%\n",
            "                        precision    recall  f1-score   support\n",
            "\n",
            "         comp.graphics       0.65      0.45      0.53       111\n",
            "             sci.space       0.79      0.81      0.80       134\n",
            "    rec.sport.baseball       0.75      0.77      0.76       111\n",
            "    talk.politics.misc       0.77      0.86      0.81       122\n",
            "soc.religion.christian       0.62      0.70      0.66        90\n",
            "\n",
            "              accuracy                           0.73       568\n",
            "             macro avg       0.72      0.72      0.71       568\n",
            "          weighted avg       0.72      0.73      0.72       568\n",
            "\n",
            "Epoch 7, Loss: 38.0327, Val Acc: 72.71%\n",
            "                        precision    recall  f1-score   support\n",
            "\n",
            "         comp.graphics       0.64      0.75      0.69       111\n",
            "             sci.space       0.79      0.84      0.81       134\n",
            "    rec.sport.baseball       0.83      0.77      0.80       111\n",
            "    talk.politics.misc       0.82      0.89      0.85       122\n",
            "soc.religion.christian       0.85      0.59      0.70        90\n",
            "\n",
            "              accuracy                           0.78       568\n",
            "             macro avg       0.79      0.77      0.77       568\n",
            "          weighted avg       0.79      0.78      0.78       568\n",
            "\n",
            "Epoch 8, Loss: 31.2341, Val Acc: 77.82%\n",
            "                        precision    recall  f1-score   support\n",
            "\n",
            "         comp.graphics       0.68      0.70      0.69       111\n",
            "             sci.space       0.83      0.86      0.85       134\n",
            "    rec.sport.baseball       0.81      0.83      0.82       111\n",
            "    talk.politics.misc       0.74      0.92      0.82       122\n",
            "soc.religion.christian       0.88      0.50      0.64        90\n",
            "\n",
            "              accuracy                           0.78       568\n",
            "             macro avg       0.79      0.76      0.76       568\n",
            "          weighted avg       0.79      0.78      0.77       568\n",
            "\n",
            "Epoch 9, Loss: 26.1096, Val Acc: 77.82%\n",
            "                        precision    recall  f1-score   support\n",
            "\n",
            "         comp.graphics       0.71      0.72      0.72       111\n",
            "             sci.space       0.86      0.86      0.86       134\n",
            "    rec.sport.baseball       0.85      0.84      0.85       111\n",
            "    talk.politics.misc       0.83      0.92      0.87       122\n",
            "soc.religion.christian       0.86      0.76      0.80        90\n",
            "\n",
            "              accuracy                           0.82       568\n",
            "             macro avg       0.82      0.82      0.82       568\n",
            "          weighted avg       0.82      0.82      0.82       568\n",
            "\n",
            "Epoch 10, Loss: 21.2049, Val Acc: 82.39%\n",
            "                        precision    recall  f1-score   support\n",
            "\n",
            "         comp.graphics       0.81      0.58      0.67       111\n",
            "             sci.space       0.89      0.89      0.89       134\n",
            "    rec.sport.baseball       0.80      0.91      0.85       111\n",
            "    talk.politics.misc       0.77      0.94      0.85       122\n",
            "soc.religion.christian       0.87      0.77      0.82        90\n",
            "\n",
            "              accuracy                           0.82       568\n",
            "             macro avg       0.83      0.82      0.82       568\n",
            "          weighted avg       0.83      0.82      0.82       568\n",
            "\n",
            "Epoch 11, Loss: 17.1658, Val Acc: 82.39%\n",
            "                        precision    recall  f1-score   support\n",
            "\n",
            "         comp.graphics       0.66      0.84      0.74       111\n",
            "             sci.space       0.91      0.79      0.85       134\n",
            "    rec.sport.baseball       0.87      0.89      0.88       111\n",
            "    talk.politics.misc       0.95      0.86      0.90       122\n",
            "soc.religion.christian       0.85      0.82      0.84        90\n",
            "\n",
            "              accuracy                           0.84       568\n",
            "             macro avg       0.85      0.84      0.84       568\n",
            "          weighted avg       0.85      0.84      0.84       568\n",
            "\n",
            "Epoch 12, Loss: 14.0888, Val Acc: 83.98%\n",
            "                        precision    recall  f1-score   support\n",
            "\n",
            "         comp.graphics       0.77      0.68      0.72       111\n",
            "             sci.space       0.89      0.85      0.87       134\n",
            "    rec.sport.baseball       0.76      0.93      0.84       111\n",
            "    talk.politics.misc       0.86      0.93      0.89       122\n",
            "soc.religion.christian       0.88      0.73      0.80        90\n",
            "\n",
            "              accuracy                           0.83       568\n",
            "             macro avg       0.83      0.82      0.82       568\n",
            "          weighted avg       0.83      0.83      0.83       568\n",
            "\n",
            "Epoch 13, Loss: 11.2825, Val Acc: 83.10%\n",
            "                        precision    recall  f1-score   support\n",
            "\n",
            "         comp.graphics       0.79      0.77      0.78       111\n",
            "             sci.space       0.92      0.84      0.88       134\n",
            "    rec.sport.baseball       0.89      0.91      0.90       111\n",
            "    talk.politics.misc       0.83      0.94      0.88       122\n",
            "soc.religion.christian       0.85      0.81      0.83        90\n",
            "\n",
            "              accuracy                           0.86       568\n",
            "             macro avg       0.85      0.85      0.85       568\n",
            "          weighted avg       0.86      0.86      0.86       568\n",
            "\n",
            "Epoch 14, Loss: 9.1938, Val Acc: 85.56%\n",
            "                        precision    recall  f1-score   support\n",
            "\n",
            "         comp.graphics       0.72      0.83      0.77       111\n",
            "             sci.space       0.93      0.81      0.87       134\n",
            "    rec.sport.baseball       0.96      0.80      0.87       111\n",
            "    talk.politics.misc       0.84      0.94      0.89       122\n",
            "soc.religion.christian       0.80      0.82      0.81        90\n",
            "\n",
            "              accuracy                           0.84       568\n",
            "             macro avg       0.85      0.84      0.84       568\n",
            "          weighted avg       0.85      0.84      0.84       568\n",
            "\n",
            "Epoch 15, Loss: 8.0615, Val Acc: 84.33%\n"
          ]
        }
      ]
    },
    {
      "cell_type": "code",
      "source": [
        "# STEP 10: Evaluate on official 20NG test set\n",
        "from sklearn.datasets import fetch_20newsgroups\n",
        "\n",
        "# Load the official test set with same categories\n",
        "test_newsgroups = fetch_20newsgroups(subset='test', categories=categories)\n",
        "test_texts, test_labels = test_newsgroups.data, test_newsgroups.target\n",
        "\n",
        "# Tokenize and filter short docs\n",
        "test_tokenized = [simple_preprocess(text) for text in test_texts]\n",
        "filtered_test = [(doc, label) for doc, label in zip(test_tokenized, test_labels) if len(doc) >= 3]\n",
        "test_tokenized, test_labels = zip(*filtered_test)\n",
        "\n",
        "# Convert test docs to indices\n",
        "test_indexed = [doc2ind(doc) for doc in test_tokenized]\n",
        "test_padded = pad_sequence([torch.tensor(doc) for doc in test_indexed], batch_first=True, padding_value=vocab['<PAD>'])\n",
        "test_labels_tensor = torch.tensor(test_labels)\n",
        "\n",
        "# Create test DataLoader\n",
        "from torch.utils.data import TensorDataset, DataLoader\n",
        "test_ds = TensorDataset(test_padded, test_labels_tensor)\n",
        "test_dl = DataLoader(test_ds, batch_size=64)\n",
        "\n",
        "# Evaluate using the same function\n",
        "print(\"Evaluating on official test set:\")\n",
        "test_acc = evaluate(model, test_dl)\n",
        "print(f\"Test Accuracy: {test_acc:.2f}%\")"
      ],
      "metadata": {
        "id": "c7qXR4IlwNUk",
        "outputId": "0a6318da-d8b0-4129-e468-ee65b901196e",
        "colab": {
          "base_uri": "https://localhost:8080/"
        }
      },
      "execution_count": 47,
      "outputs": [
        {
          "output_type": "stream",
          "name": "stdout",
          "text": [
            "Evaluating on official test set:\n",
            "                        precision    recall  f1-score   support\n",
            "\n",
            "         comp.graphics       0.73      0.92      0.81       389\n",
            "             sci.space       0.93      0.92      0.93       397\n",
            "    rec.sport.baseball       0.97      0.72      0.82       394\n",
            "    talk.politics.misc       0.90      0.95      0.92       398\n",
            "soc.religion.christian       0.85      0.82      0.83       310\n",
            "\n",
            "              accuracy                           0.87      1888\n",
            "             macro avg       0.88      0.86      0.86      1888\n",
            "          weighted avg       0.88      0.87      0.87      1888\n",
            "\n",
            "Test Accuracy: 86.55%\n"
          ]
        }
      ]
    },
    {
      "cell_type": "markdown",
      "source": [
        "Visualization of embeddings using TSNE"
      ],
      "metadata": {
        "id": "63lMrEVxp-V1"
      }
    },
    {
      "cell_type": "code",
      "source": [
        "# STEP 9: Visualize GloVe embeddings after fine-tuning (optional)\n",
        "from sklearn.manifold import TSNE\n",
        "import matplotlib.pyplot as plt\n",
        "\n",
        "# Unfreeze embedding layer for further fine-tuning (if you want to train more)\n",
        "model.embedding.weight.requires_grad = True\n",
        "\n",
        "# Visualize word embeddings (sample 500)\n",
        "sample_idx = [vocab[word] for word in list(vocab.keys())[:500]]\n",
        "sample_vectors = model.embedding.weight.data[sample_idx].cpu().numpy()\n",
        "\n",
        "tsne = TSNE(n_components=2)\n",
        "reduced = tsne.fit_transform(sample_vectors)\n",
        "\n",
        "plt.figure(figsize=(10, 6))\n",
        "plt.scatter(reduced[:, 0], reduced[:, 1], alpha=0.6)\n",
        "plt.title(\"t-SNE of Word Embeddings (Post-Fine-Tuning)\")\n",
        "plt.show()"
      ],
      "metadata": {
        "colab": {
          "base_uri": "https://localhost:8080/",
          "height": 451
        },
        "id": "F5LzxUUPpFe7",
        "outputId": "5c376dcf-7fdd-433b-8402-20e9428fcebe"
      },
      "execution_count": 48,
      "outputs": [
        {
          "output_type": "display_data",
          "data": {
            "text/plain": [
              "<Figure size 1000x600 with 1 Axes>"
            ],
            "image/png": "[encoded data removed]"
          },
          "metadata": {}
        }
      ]
    },
    {
      "cell_type": "markdown",
      "source": [
        "PROBLEM 3 [Optional, no credit]: Autoencoders\n",
        "\n",
        "You can pick your own text to fine tune word vectors, if its reasonable in size and very domain-specific (compared to general English). Suggestions:\n",
        "- Alice in Wonderland\n",
        "- Sonnets\n",
        "- specific categories (labels) from 20NG or Reurters datasets\n",
        "- use your favorite specific text (like a book, or project)\n"
      ],
      "metadata": {
        "id": "l1j-1GDn5s82"
      }
    },
    {
      "cell_type": "code",
      "source": [],
      "metadata": {
        "id": "BsUvzwxP5wbf"
      },
      "execution_count": null,
      "outputs": []
    },
    {
      "cell_type": "markdown",
      "source": [
        "PROBLEM 4 [Optional, no credit]: Autoencoders\n",
        "\n",
        "For each one of the datasets MNIST, 20NG (required) and SPAMBASE, FASHION (optional) run as an autoencoder with pytorch with a desired hidden layer size (try K=5,10, 20, 100, 200)- what is the smaleest K that works?).\n",
        "\n",
        "Load the data with dataloader https://pytorch.org/tutorials/beginner/basics/data_tutorial.html\n",
        "\n",
        "Construct an Autoencoder with the following architecture :\n",
        "\n",
        "Two linear layers with in features matching the dimensions of input and out\n",
        "\n",
        "features matching the size of K\n",
        "\n",
        "Two linear layers with in features matching K and size of out features matching the size of input dimensions.\n",
        "\n",
        "Define a forward pass with relu\n",
        "\n",
        "Code a train loop with number of epochs as 10.\n",
        "\n",
        "Define loss and Optimizer (Adam)\n",
        "\n",
        "Train the model\n",
        "\n",
        "use gpu if available\n",
        "\n",
        "use mean-squared error loss\n",
        "\n",
        "create a model from Autoencoder class load it to the specified device, either gpu or cpu\n",
        "\n",
        "Verify the obtained re-encoding of data (the new feature representation) in several ways:\n",
        "\n",
        "repeat a classification train/test task , or a clustering taks\n",
        "examine the new pairwise distances dist(i,j) agains the old distances obtained with original features (sample 100 pairs of related words)\n",
        "examine the top 20 neighbors (by new distance) set overlap with old neighbors, per datapoint\n",
        "for images, rebuild the image form output layer and draw to look at it\n"
      ],
      "metadata": {
        "id": "2RUiT9_w5ytm"
      }
    },
    {
      "cell_type": "code",
      "source": [],
      "metadata": {
        "id": "2O0PNpMQ6EDq"
      },
      "execution_count": null,
      "outputs": []
    },
    {
      "cell_type": "markdown",
      "source": [
        "PROBLEM 5 [Optional, no credit]: Image Feature Extraction\n",
        "\n",
        "Run a Convolutional Neural Network in pytorch to extract image features. In practice the network usually does both the feature extraction and the supervised task (classification) in one pipeline.\n"
      ],
      "metadata": {
        "id": "MqknZXDI6Hak"
      }
    },
    {
      "cell_type": "code",
      "source": [],
      "metadata": {
        "id": "uCITaHzP6JzO"
      },
      "execution_count": null,
      "outputs": []
    },
    {
      "cell_type": "markdown",
      "source": [
        "PROBLEM 6 [Optional, no credit]: LSTM for text\n",
        "\n",
        "Run a Recurrent Neural Network/LSTM in Pytorch to model word dependecies/order in text. Can be use for translation, next-word prediction, event detection etc.\n"
      ],
      "metadata": {
        "id": "mrTmQwMs6LQa"
      }
    },
    {
      "cell_type": "code",
      "source": [],
      "metadata": {
        "id": "tl4bvyxO6N5W"
      },
      "execution_count": null,
      "outputs": []
    }
  ]
}