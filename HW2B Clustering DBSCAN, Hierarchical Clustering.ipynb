{
  "nbformat": 4,
  "nbformat_minor": 0,
  "metadata": {
    "colab": {
      "provenance": [],
      "include_colab_link": true
    },
    "kernelspec": {
      "name": "python3",
      "display_name": "Python 3"
    },
    "language_info": {
      "name": "python"
    }
  },
  "cells": [
    {
      "cell_type": "markdown",
      "metadata": {
        "id": "view-in-github",
        "colab_type": "text"
      },
      "source": [
        "<a href=\"https://colab.research.google.com/github/HalgasAdrian/CS5230-Coursework/blob/main/HW2B%20Clustering%20DBSCAN%2C%20Hierarchical%20Clustering.ipynb\" target=\"_parent\"><img src=\"https://colab.research.google.com/assets/colab-badge.svg\" alt=\"Open In Colab\"/></a>"
      ]
    },
    {
      "cell_type": "markdown",
      "source": [
        "**PROBLEM 5: DBSCAN on toy-neighborhood data**\n",
        "\n",
        "You are to cluster, and visualize, a small dataset using DBSCAN epsilon = 7.5, MinPts = 3). You have been provided a file, dbscan.csv, that has the following columns for each point in the dataset:\n",
        "\n",
        "cluster originally empty, provided for your convenience pt a unique id for each data point\n",
        "\n",
        "x point x-coordinate\n",
        "\n",
        "y point y-coordinate\n",
        "\n",
        "num neighbors number of neighbors, according to the coordinates above neighbors the id’s of all neighbors within\n",
        "\n",
        "As you can see, a tedious O(n^2) portion of the work has been done for you. Your job is to execute, point-by-point, the DBSCAN algorithm, logging your work.\n"
      ],
      "metadata": {
        "id": "9tU1T8Ba7Skk"
      }
    },
    {
      "cell_type": "code",
      "execution_count": null,
      "metadata": {
        "id": "Q0OQODMA6FC_"
      },
      "outputs": [],
      "source": []
    },
    {
      "cell_type": "markdown",
      "source": [
        "**PROBLEM 6: DBSCAN on toy raw data**\n",
        "\n",
        "Three toy 2D datasets are provided (or they can be obtained easily with scikit learn) circles; blobs, and moons. Run your own implementation of DBSCAN on these, in two phases.\n"
      ],
      "metadata": {
        "id": "he0UJqOF86Db"
      }
    },
    {
      "cell_type": "code",
      "source": [],
      "metadata": {
        "id": "PiaxXv_F8-Ud"
      },
      "execution_count": null,
      "outputs": []
    },
    {
      "cell_type": "markdown",
      "source": [
        "**PROBLEM 7: DBSCAN on real data**\n",
        "\n",
        "Run the DBSCAN algorithm on the 20NG dataset, and on the FASHION dataset, and the HouseHold dataset (see papers), and evaluate results. You need to implement both phases (1) neighborhoods creation, (2) DBSCAN.\n",
        "\n",
        "Explain why/when it works, and speculate why/when not. You need to trial and error for parameters epsilon and MinPts\n",
        "\n",
        "EXTRA CREDIT: Using class labels (cheating), try to remove/add points in curate the set for better DBSCAN runs"
      ],
      "metadata": {
        "id": "r00g-hXe9G_B"
      }
    },
    {
      "cell_type": "code",
      "source": [],
      "metadata": {
        "id": "lH63gwzp9NIE"
      },
      "execution_count": null,
      "outputs": []
    },
    {
      "cell_type": "markdown",
      "source": [
        "**PROBLEM 8: Hierarchical Clustering**\n",
        "\n",
        "Implement hierarchical clustering. Start the bottom of the hierarchy with all point (or at least 5000 sampled) and build the hierarchy by repeatedly \"joining the closest\" clusters with avg_dist or single_dist criteria up to one big cluster (full hierarchy). Then decide how to cut it for K=2 or K=5 or K=10 clusters and evaluate. Run on moons dataset.\n",
        "\n",
        "Optional: Run your hierarchical clustering on 20NG, sample 3000 documents."
      ],
      "metadata": {
        "id": "cNMBGwCs9YBm"
      }
    },
    {
      "cell_type": "code",
      "source": [],
      "metadata": {
        "id": "CIXoI2wQ9acq"
      },
      "execution_count": null,
      "outputs": []
    }
  ]
}