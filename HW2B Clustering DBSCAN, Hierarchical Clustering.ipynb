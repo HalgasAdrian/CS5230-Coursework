{
  "nbformat": 4,
  "nbformat_minor": 0,
  "metadata": {
    "colab": {
      "provenance": [],
      "include_colab_link": true
    },
    "kernelspec": {
      "name": "python3",
      "display_name": "Python 3"
    },
    "language_info": {
      "name": "python"
    }
  },
  "cells": [
    {
      "cell_type": "markdown",
      "metadata": {
        "id": "view-in-github",
        "colab_type": "text"
      },
      "source": [
        "<a href=\"https://colab.research.google.com/github/HalgasAdrian/CS5230-Coursework/blob/main/HW2B%20Clustering%20DBSCAN%2C%20Hierarchical%20Clustering.ipynb\" target=\"_parent\"><img src=\"https://colab.research.google.com/assets/colab-badge.svg\" alt=\"Open In Colab\"/></a>"
      ]
    },
    {
      "cell_type": "markdown",
      "source": [
        "**PROBLEM 5: DBSCAN on toy-neighborhood data**\n",
        "\n",
        "You are to cluster, and visualize, a small dataset using DBSCAN epsilon = 7.5, MinPts = 3). You have been provided a file, dbscan.csv, that has the following columns for each point in the dataset:\n",
        "\n",
        "cluster originally empty, provided for your convenience pt a unique id for each data point\n",
        "\n",
        "x point x-coordinate\n",
        "\n",
        "y point y-coordinate\n",
        "\n",
        "num neighbors number of neighbors, according to the coordinates above neighbors the id’s of all neighbors within\n",
        "\n",
        "As you can see, a tedious O(n^2) portion of the work has been done for you. Your job is to execute, point-by-point, the DBSCAN algorithm, logging your work.\n"
      ],
      "metadata": {
        "id": "9tU1T8Ba7Skk"
      }
    },
    {
      "cell_type": "code",
      "source": [
        "import numpy as np\n",
        "import matplotlib.pyplot as plt\n",
        "import pandas as pd"
      ],
      "metadata": {
        "id": "sa-KlXBwQSbw"
      },
      "execution_count": 7,
      "outputs": []
    },
    {
      "cell_type": "code",
      "execution_count": 8,
      "metadata": {
        "id": "Q0OQODMA6FC_",
        "outputId": "df86a2bc-b015-46c3-ae60-875b5e4e39ee",
        "colab": {
          "base_uri": "https://localhost:8080/"
        }
      },
      "outputs": [
        {
          "output_type": "stream",
          "name": "stdout",
          "text": [
            "   cluster  pt          x          y  num_neighbors neighbors\n",
            "0      NaN   0  51.418089  13.593610              2      0,27\n",
            "1      NaN   1  39.132318  -4.419204              3   1,40,75\n",
            "2      NaN   2  47.807515 -25.822561              1         2\n",
            "3      NaN   3  27.699703  53.434193              1         3\n",
            "4      NaN   4  39.860995   5.676871              3   4,56,75\n",
            "Numeric data shape: (80, 5)\n"
          ]
        }
      ],
      "source": [
        "#Loading data\n",
        "url = 'https://www.ccs.neu.edu/home/vip/teach/DMcourse/2_cluster_EM_mixt/HW2/dbscan.csv'\n",
        "data = pd.read_csv(url)  # Read into a DataFrame\n",
        "print(data.head())  # Preview first few rows\n",
        "\n",
        "# Convert to NumPy array (excluding non-numeric columns)\n",
        "numeric_data = data.select_dtypes(include=['number']).to_numpy()\n",
        "print(f\"Numeric data shape: {numeric_data.shape}\")"
      ]
    },
    {
      "cell_type": "markdown",
      "source": [
        "**PROBLEM 6: DBSCAN on toy raw data**\n",
        "\n",
        "Three toy 2D datasets are provided (or they can be obtained easily with scikit learn) circles; blobs, and moons. Run your own implementation of DBSCAN on these, in two phases.\n"
      ],
      "metadata": {
        "id": "he0UJqOF86Db"
      }
    },
    {
      "cell_type": "code",
      "source": [],
      "metadata": {
        "id": "PiaxXv_F8-Ud"
      },
      "execution_count": null,
      "outputs": []
    },
    {
      "cell_type": "markdown",
      "source": [
        "**PROBLEM 7: DBSCAN on real data**\n",
        "\n",
        "Run the DBSCAN algorithm on the 20NG dataset, and on the FASHION dataset, and the HouseHold dataset (see papers), and evaluate results. You need to implement both phases (1) neighborhoods creation, (2) DBSCAN.\n",
        "\n",
        "Explain why/when it works, and speculate why/when not. You need to trial and error for parameters epsilon and MinPts\n",
        "\n",
        "EXTRA CREDIT: Using class labels (cheating), try to remove/add points in curate the set for better DBSCAN runs"
      ],
      "metadata": {
        "id": "r00g-hXe9G_B"
      }
    },
    {
      "cell_type": "code",
      "source": [],
      "metadata": {
        "id": "lH63gwzp9NIE"
      },
      "execution_count": null,
      "outputs": []
    },
    {
      "cell_type": "markdown",
      "source": [
        "**PROBLEM 8: Hierarchical Clustering**\n",
        "\n",
        "Implement hierarchical clustering. Start the bottom of the hierarchy with all point (or at least 5000 sampled) and build the hierarchy by repeatedly \"joining the closest\" clusters with avg_dist or single_dist criteria up to one big cluster (full hierarchy). Then decide how to cut it for K=2 or K=5 or K=10 clusters and evaluate. Run on moons dataset.\n",
        "\n",
        "Optional: Run your hierarchical clustering on 20NG, sample 3000 documents."
      ],
      "metadata": {
        "id": "cNMBGwCs9YBm"
      }
    },
    {
      "cell_type": "code",
      "source": [],
      "metadata": {
        "id": "CIXoI2wQ9acq"
      },
      "execution_count": null,
      "outputs": []
    }
  ]
}