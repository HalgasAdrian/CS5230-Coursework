{
  "nbformat": 4,
  "nbformat_minor": 0,
  "metadata": {
    "colab": {
      "provenance": [],
      "authorship_tag": "ABX9TyPNJjGdSBda8co4Oxrv3LMp"
    },
    "kernelspec": {
      "name": "python3",
      "display_name": "Python 3"
    },
    "language_info": {
      "name": "python"
    }
  },
  "cells": [
    {
      "cell_type": "markdown",
      "source": [
        "**Problem 1: Supervised Classification Libraries: Regression, Decision Tree**\n",
        "\n",
        "6 Runs of Supervised Training / Testing : 3 datasets (MNIST, Spambase, 20NG) x 2 Classification Algorithms (L2-reg Logistic Regression, Decision Trees). You can use a library for the classification algorithms, and also can use any library/script to process data in appropriate formats.\n",
        "You are required to explain/analyze the model trained in terms of features : for each of the 6 runs list the top F=30 features. For the Regression these correspond to the highest-absolute-value F coefficients; for Decision Tree they are the first F splits. In particular for Decision Tree on 20NG, report performance for two tree sizes ( by depths of the tree, or number of leaves, or number of splits )"
      ],
      "metadata": {
        "id": "wGU9SzNy9RkY"
      }
    },
    {
      "cell_type": "code",
      "execution_count": null,
      "metadata": {
        "id": "jTU5nQcd8b9k"
      },
      "outputs": [],
      "source": []
    },
    {
      "cell_type": "markdown",
      "source": [
        "**Problem 2: PCA library on MNIST**\n",
        "\n",
        "A) For MNIST dataset, run a PCA-library to get data on D=5 features. Rerun the classification tasks from PB1, compare testing performance with the one from PB1. Then repeat this exercise for D=20\n",
        "B) Run PCA library on Spambase and repeat one of the classification algorithms. What is the smallest D (number of PCA dimensions) you need to get a comparable test result?"
      ],
      "metadata": {
        "id": "qciU_0Jl9buW"
      }
    },
    {
      "cell_type": "code",
      "source": [],
      "metadata": {
        "id": "EahmIliS9fO1"
      },
      "execution_count": null,
      "outputs": []
    },
    {
      "cell_type": "markdown",
      "source": [
        "**Problem 3: Implement PCA on MNIST**\n",
        "\n",
        "Repeat PB2 exercises on MNIST (D=5 and D=20) with your own PCA implementation. You can use any built-in library/package/API for : matrix storage/multiplication, covariance computation, eigenvalue or SVD decomposition, etc. Matlab is probably the easiest language for implementing PCA due to its excellent linear algebra support.\n"
      ],
      "metadata": {
        "id": "LoP27Zqt9jUj"
      }
    },
    {
      "cell_type": "code",
      "source": [],
      "metadata": {
        "id": "cbjvQoEC9n-R"
      },
      "execution_count": null,
      "outputs": []
    },
    {
      "cell_type": "markdown",
      "source": [
        "**Problem 4: PCA for clustering visualization**\n",
        "\n",
        "A) Run KMeans on MNIST data (or a sample of it)\n",
        "B) Run PCA on same data\n",
        "C) Plot data in 3D with PCA representation with t=3 top eigen values; use shapes to to indicate truth digit label (circle, triangle, \"+\", stars, etc) and colors to indicate cluster ID (red blue green etc).\n",
        "D) Select other 3 at random eigen values from top 20; redo the plot several times."
      ],
      "metadata": {
        "id": "NU_6HaFu9tqg"
      }
    },
    {
      "cell_type": "code",
      "source": [],
      "metadata": {
        "id": "7rModEuA9z2M"
      },
      "execution_count": null,
      "outputs": []
    },
    {
      "cell_type": "markdown",
      "source": [
        "**Problem 5: Implement Kernel PCA for Logistic Regression**\n",
        "\n",
        "Dataset: 1000 2-dim datapoints TwoSpirals\n",
        "Dataset: 1000 2-dim datapoints ThreeCircles\n",
        "\n",
        "A) First, train a Linear/Logistic Regression (library, logistic if data labels are categories) and confirm that it doesnt work , i.e. it has a high classification error or high Root Mean Squared Error.\n",
        "B) Run KernelPCA with Gaussian Kernel to obtain a representation of T features. For reference these steps we demoed in class (Matlab):\n",
        "%get pairwise squared euclidian distance\n",
        "X2 = dot(X,X,2);\n",
        "DIST_euclid = bsxfun(@plus, X2, X2') - 2 * X * X';\n",
        "% get a kernel matrix NxN\n",
        "sigma = 3;\n",
        "K = exp(-DIST_euclid/sigma);\n",
        "%normalize the Kernel to correspond to zero-mean\n",
        "U = ones(N)/ N ;\n",
        "Kn = K - U*K -K*U + U*K*U ;\n",
        "% obtain kernel eignevalues, vectors; then sort them with largest eig first\n",
        "[V,D] = eig(Kn,'vector') ;\n",
        "[D,sorteig] = sort(D,'descend') ;\n",
        "V = V(:, sorteig);\n",
        "% get the projection matrix\n",
        "XG = Kn*V;\n",
        "%get first 3 dimensions\n",
        "X3G = XG(:,1:3);\n",
        "%get first 20 dimensions\n",
        "X20G = XG(:,1:20);\n",
        "%get first 100 dimensions\n",
        "X100G = XG(:,1:100);\n",
        "\n",
        "C) Retrain the regression algorithm on the same data kernelized / dual form. How large T needs to be to get good performance?"
      ],
      "metadata": {
        "id": "LQZh32Qp91_k"
      }
    },
    {
      "cell_type": "code",
      "source": [],
      "metadata": {
        "id": "x0JTjLFj9-nA"
      },
      "execution_count": null,
      "outputs": []
    },
    {
      "cell_type": "markdown",
      "source": [
        "**PROBLEM 6 - OPTIONAL (no credit) : Implement Kernel PCA on MNIST**\n",
        "\n",
        "A) First, add Gaussian noise to MNIST images.\n",
        "B) Then rerun PCA on noisy images (D=5 and D=20) and inspect visually the images obtained by PCA representation\n",
        "C) Run Kernel-PCA with the RBF Kernel (D=5 and D=20) on noisy images and observe better images visually."
      ],
      "metadata": {
        "id": "gO1nzuW_-BGO"
      }
    },
    {
      "cell_type": "code",
      "source": [],
      "metadata": {
        "id": "mMb8UOvJ-EfJ"
      },
      "execution_count": null,
      "outputs": []
    }
  ]
}