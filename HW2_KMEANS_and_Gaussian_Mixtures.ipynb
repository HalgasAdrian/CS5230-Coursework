{
  "nbformat": 4,
  "nbformat_minor": 0,
  "metadata": {
    "colab": {
      "provenance": [],
      "authorship_tag": "ABX9TyOhzFnB8cz830jzAAHw1EOD",
      "include_colab_link": true
    },
    "kernelspec": {
      "name": "python3",
      "display_name": "Python 3"
    },
    "language_info": {
      "name": "python"
    }
  },
  "cells": [
    {
      "cell_type": "markdown",
      "metadata": {
        "id": "view-in-github",
        "colab_type": "text"
      },
      "source": [
        "<a href=\"https://colab.research.google.com/github/HalgasAdrian/CS5230-Coursework/blob/main/HW2_KMEANS_and_Gaussian_Mixtures.ipynb\" target=\"_parent\"><img src=\"https://colab.research.google.com/assets/colab-badge.svg\" alt=\"Open In Colab\"/></a>"
      ]
    },
    {
      "cell_type": "markdown",
      "source": [
        "HW2 KMNEANS and Gaussian Mixtures\n"
      ],
      "metadata": {
        "id": "HgHKiMWqdlOa"
      }
    },
    {
      "cell_type": "markdown",
      "source": [
        "Problem 1: KMeans Theory"
      ],
      "metadata": {
        "id": "lDQcHIupik_m"
      }
    },
    {
      "cell_type": "markdown",
      "source": [
        "Problem 2: KMeans on data\n",
        "\n",
        "Using Euclidian distance or dot product similarity (choose one per dataset, you can try other similarity metrics).\n",
        "\n",
        "A) run KMeans on the MNIST Dataset, try K=10\n",
        "\n",
        "B) run KMeans on the FASHION Dataset, try K=10\n",
        "\n",
        "C) run KMeans on the 20NG Dataset, try K=20\n",
        "\n",
        "You can use a library for distance/similarity but you have to implement your own kmeans (EM steps, termination criteria etc).\n",
        "For all three datasets, evaluate the KMeans objective for a higher K (for example double) or smaller K(for example half).\n",
        "For all three datasets, evaluate external clustering performance using data labels and performance metrics Purity and Gini Index (see [A] book section 6.9.2).\n",
        "\n",
        "D) run soft Kmeans for MNIST dataset, use K=10. You can try beta=0.1, beta=1, beta=10. Evaluate performance."
      ],
      "metadata": {
        "id": "IyTCpu1AkHML"
      }
    },
    {
      "cell_type": "markdown",
      "source": [
        "A) Run KMeans on the MNIST Dataset, try K = 10"
      ],
      "metadata": {
        "id": "3Jzpkszmk6EE"
      }
    },
    {
      "cell_type": "code",
      "execution_count": 1,
      "metadata": {
        "id": "Yhb50uGrGvTC",
        "colab": {
          "base_uri": "https://localhost:8080/"
        },
        "collapsed": true,
        "outputId": "eee62198-48b0-4ab4-a883-fd8b1c123723"
      },
      "outputs": [
        {
          "output_type": "stream",
          "name": "stdout",
          "text": [
            "--2025-02-03 02:22:34--  https://web.archive.org/web/20220331230320/http://yann.lecun.com/exdb/mnist/train-images-idx3-ubyte.gz\n",
            "Resolving web.archive.org (web.archive.org)... 207.241.237.3\n",
            "Connecting to web.archive.org (web.archive.org)|207.241.237.3|:443... connected.\n",
            "HTTP request sent, awaiting response... 302 FOUND\n",
            "Location: https://web.archive.org/web/20220331225332/http://yann.lecun.com/exdb/mnist/train-images-idx3-ubyte.gz [following]\n",
            "--2025-02-03 02:22:35--  https://web.archive.org/web/20220331225332/http://yann.lecun.com/exdb/mnist/train-images-idx3-ubyte.gz\n",
            "Reusing existing connection to web.archive.org:443.\n",
            "HTTP request sent, awaiting response... 200 OK\n",
            "Length: 9912422 (9.5M) [application/x-gzip]\n",
            "Saving to: ‘/content/mnist/train-images-idx3-ubyte.gz’\n",
            "\n",
            "/content/mnist/trai 100%[===================>]   9.45M  14.1MB/s    in 0.7s    \n",
            "\n",
            "2025-02-03 02:22:37 (14.1 MB/s) - ‘/content/mnist/train-images-idx3-ubyte.gz’ saved [9912422/9912422]\n",
            "\n",
            "--2025-02-03 02:22:37--  https://web.archive.org/web/20220331230320/http://yann.lecun.com/exdb/mnist/train-labels-idx1-ubyte.gz\n",
            "Resolving web.archive.org (web.archive.org)... 207.241.237.3\n",
            "Connecting to web.archive.org (web.archive.org)|207.241.237.3|:443... connected.\n",
            "HTTP request sent, awaiting response... 302 FOUND\n",
            "Location: https://web.archive.org/web/20220331225243/http://yann.lecun.com/exdb/mnist/train-labels-idx1-ubyte.gz [following]\n",
            "--2025-02-03 02:22:38--  https://web.archive.org/web/20220331225243/http://yann.lecun.com/exdb/mnist/train-labels-idx1-ubyte.gz\n",
            "Reusing existing connection to web.archive.org:443.\n",
            "HTTP request sent, awaiting response... 200 OK\n",
            "Length: 28881 (28K) [application/x-gzip]\n",
            "Saving to: ‘/content/mnist/train-labels-idx1-ubyte.gz’\n",
            "\n",
            "/content/mnist/trai 100%[===================>]  28.20K  --.-KB/s    in 0s      \n",
            "\n",
            "2025-02-03 02:22:39 (67.2 MB/s) - ‘/content/mnist/train-labels-idx1-ubyte.gz’ saved [28881/28881]\n",
            "\n",
            "--2025-02-03 02:22:39--  https://web.archive.org/web/20220331230320/http://yann.lecun.com/exdb/mnist/t10k-images-idx3-ubyte.gz\n",
            "Resolving web.archive.org (web.archive.org)... 207.241.237.3\n",
            "Connecting to web.archive.org (web.archive.org)|207.241.237.3|:443... connected.\n",
            "HTTP request sent, awaiting response... 302 FOUND\n",
            "Location: https://web.archive.org/web/20220331225223/http://yann.lecun.com/exdb/mnist/t10k-images-idx3-ubyte.gz [following]\n",
            "--2025-02-03 02:22:40--  https://web.archive.org/web/20220331225223/http://yann.lecun.com/exdb/mnist/t10k-images-idx3-ubyte.gz\n",
            "Reusing existing connection to web.archive.org:443.\n",
            "HTTP request sent, awaiting response... 200 OK\n",
            "Length: 1648877 (1.6M) [application/x-gzip]\n",
            "Saving to: ‘/content/mnist/t10k-images-idx3-ubyte.gz’\n",
            "\n",
            "/content/mnist/t10k 100%[===================>]   1.57M  4.19MB/s    in 0.4s    \n",
            "\n",
            "2025-02-03 02:22:41 (4.19 MB/s) - ‘/content/mnist/t10k-images-idx3-ubyte.gz’ saved [1648877/1648877]\n",
            "\n",
            "--2025-02-03 02:22:41--  https://web.archive.org/web/20220331230320/http://yann.lecun.com/exdb/mnist/t10k-labels-idx1-ubyte.gz\n",
            "Resolving web.archive.org (web.archive.org)... 207.241.237.3\n",
            "Connecting to web.archive.org (web.archive.org)|207.241.237.3|:443... connected.\n",
            "HTTP request sent, awaiting response... 302 FOUND\n",
            "Location: https://web.archive.org/web/20220331225222/http://yann.lecun.com/exdb/mnist/t10k-labels-idx1-ubyte.gz [following]\n",
            "--2025-02-03 02:22:42--  https://web.archive.org/web/20220331225222/http://yann.lecun.com/exdb/mnist/t10k-labels-idx1-ubyte.gz\n",
            "Reusing existing connection to web.archive.org:443.\n",
            "HTTP request sent, awaiting response... 200 OK\n",
            "Length: 4542 (4.4K) [application/x-gzip]\n",
            "Saving to: ‘/content/mnist/t10k-labels-idx1-ubyte.gz’\n",
            "\n",
            "/content/mnist/t10k 100%[===================>]   4.44K  --.-KB/s    in 0s      \n",
            "\n",
            "2025-02-03 02:22:43 (1.25 GB/s) - ‘/content/mnist/t10k-labels-idx1-ubyte.gz’ saved [4542/4542]\n",
            "\n",
            "All MNIST files downloaded.\n"
          ]
        }
      ],
      "source": [
        "import os\n",
        "\n",
        "base_url = 'https://web.archive.org/web/20220331230320/http://yann.lecun.com/exdb/mnist/'\n",
        "files = [\n",
        "    'train-images-idx3-ubyte.gz',\n",
        "    'train-labels-idx1-ubyte.gz',\n",
        "    't10k-images-idx3-ubyte.gz',\n",
        "    't10k-labels-idx1-ubyte.gz'\n",
        "]\n",
        "\n",
        "# Directory to store MNIST data\n",
        "os.makedirs('/content/mnist', exist_ok=True)\n",
        "\n",
        "# Download each file\n",
        "for file in files:\n",
        "    url = f\"{base_url}{file}\"\n",
        "    output_path = f\"/content/mnist/{file}\"\n",
        "    !wget -O {output_path} {url}\n",
        "\n",
        "print(\"All MNIST files downloaded.\")"
      ]
    },
    {
      "cell_type": "code",
      "source": [
        "import gzip\n",
        "import numpy as np\n",
        "\n",
        "# Function to extract gzip files\n",
        "def extract_gz(file_path, out_path):\n",
        "    with gzip.open(file_path, 'rb') as f_in:\n",
        "        with open(out_path, 'wb') as f_out:\n",
        "            f_out.write(f_in.read())\n",
        "\n",
        "# Extract MNIST files\n",
        "mnist_dir = '/content/mnist'\n",
        "for file in files:\n",
        "    gz_path = os.path.join(mnist_dir, file)\n",
        "    out_path = gz_path.replace('.gz', '')\n",
        "    extract_gz(gz_path, out_path)\n",
        "\n",
        "print(\"All MNIST files extracted.\")\n",
        "\n",
        "# Function to parse MNIST image files\n",
        "def load_mnist_images(file_path):\n",
        "    with open(file_path, 'rb') as f:\n",
        "        f.read(16)  # Skip header\n",
        "        data = np.frombuffer(f.read(), dtype=np.uint8)\n",
        "        return data.reshape(-1, 28, 28)\n",
        "\n",
        "# Function to parse MNIST label files\n",
        "def load_mnist_labels(file_path):\n",
        "    with open(file_path, 'rb') as f:\n",
        "        f.read(8)  # Skip header\n",
        "        data = np.frombuffer(f.read(), dtype=np.uint8)\n",
        "        return data\n",
        "\n",
        "# Load training and test data\n",
        "X_train_mnist = load_mnist_images('/content/mnist/train-images-idx3-ubyte')\n",
        "y_train_mnist = load_mnist_labels('/content/mnist/train-labels-idx1-ubyte')\n",
        "X_test_mnist = load_mnist_images('/content/mnist/t10k-images-idx3-ubyte')\n",
        "y_test_mnist = load_mnist_labels('/content/mnist/t10k-labels-idx1-ubyte')\n",
        "\n",
        "print(\"MNIST data successfully loaded.\")"
      ],
      "metadata": {
        "id": "uPyDffZenRLm",
        "outputId": "96b596c8-c4e8-4cf5-b9d5-be29b3ffbf1d",
        "colab": {
          "base_uri": "https://localhost:8080/"
        }
      },
      "execution_count": 2,
      "outputs": [
        {
          "output_type": "stream",
          "name": "stdout",
          "text": [
            "All MNIST files extracted.\n",
            "MNIST data successfully loaded.\n"
          ]
        }
      ]
    },
    {
      "cell_type": "markdown",
      "source": [
        "KMeans from scratch"
      ],
      "metadata": {
        "id": "NrRS0tXVptsC"
      }
    },
    {
      "cell_type": "code",
      "source": [
        "import numpy as np\n",
        "\n",
        "class KMeans:\n",
        "    def __init__(self, n_clusters=10, max_iter=300, tol=1e-4):\n",
        "        self.n_clusters = n_clusters\n",
        "        self.max_iter = max_iter\n",
        "        self.tol = tol\n",
        "        self.centroids = None\n",
        "        self.labels = None\n",
        "\n",
        "    def fit(self, X):\n",
        "        n_samples, n_features = X.shape\n",
        "\n",
        "        # Initialize centroids randomly\n",
        "        random_indices = np.random.choice(n_samples, self.n_clusters, replace=False)\n",
        "        self.centroids = X[random_indices]\n",
        "\n",
        "        for i in range(self.max_iter):\n",
        "            # Assign clusters\n",
        "            distances = self._compute_distances(X)\n",
        "            self.labels = np.argmin(distances, axis=1)\n",
        "\n",
        "            # Update centroids\n",
        "            new_centroids = np.array([X[self.labels == k].mean(axis=0) for k in range(self.n_clusters)])\n",
        "\n",
        "            # Check for convergence\n",
        "            if np.linalg.norm(new_centroids - self.centroids) < self.tol:\n",
        "                break\n",
        "\n",
        "            self.centroids = new_centroids\n",
        "\n",
        "    def _compute_distances(self, X):\n",
        "        distances = np.zeros((X.shape[0], self.n_clusters))\n",
        "        for k in range(self.n_clusters):\n",
        "            distances[:, k] = np.linalg.norm(X - self.centroids[k], axis=1)\n",
        "        return distances\n",
        "\n",
        "    def predict(self, X):\n",
        "        distances = self._compute_distances(X)\n",
        "        return np.argmin(distances, axis=1)"
      ],
      "metadata": {
        "id": "D6AxSaDtnm92"
      },
      "execution_count": 3,
      "outputs": []
    },
    {
      "cell_type": "markdown",
      "source": [
        "Kmeans on MNIST Dataset with K = 10"
      ],
      "metadata": {
        "id": "pA80K9D5pzM2"
      }
    },
    {
      "cell_type": "code",
      "source": [
        "# Flatten the MNIST images\n",
        "X_train_mnist_flat = X_train_mnist.reshape(X_train_mnist.shape[0], -1)\n",
        "\n",
        "# Normalize the data\n",
        "X_train_mnist_flat = X_train_mnist_flat / 255.0\n",
        "\n",
        "# Run KMeans\n",
        "kmeans_mnist = KMeans(n_clusters=10)\n",
        "kmeans_mnist.fit(X_train_mnist_flat)\n",
        "\n",
        "# Evaluate the KMeans objective\n",
        "def kmeans_objective(X, centroids, labels):\n",
        "    return np.sum([np.linalg.norm(X[labels == k] - centroids[k])**2 for k in range(centroids.shape[0])])\n",
        "\n",
        "objective_mnist = kmeans_objective(X_train_mnist_flat, kmeans_mnist.centroids, kmeans_mnist.labels)\n",
        "print(f\"KMeans Objective for MNIST (K=10): {objective_mnist}\")"
      ],
      "metadata": {
        "id": "0JevwN6Rp2N4",
        "outputId": "930e2a47-6dc2-47bc-ef8b-7a689554658a",
        "colab": {
          "base_uri": "https://localhost:8080/"
        }
      },
      "execution_count": 4,
      "outputs": [
        {
          "output_type": "stream",
          "name": "stdout",
          "text": [
            "KMeans Objective for MNIST (K=10): 2352952.706814831\n"
          ]
        }
      ]
    },
    {
      "cell_type": "code",
      "source": [
        "from sklearn.metrics import confusion_matrix\n",
        "\n",
        "def purity_score(y_true, y_pred):\n",
        "    confusion_mat = confusion_matrix(y_true, y_pred)\n",
        "    return np.sum(np.amax(confusion_mat, axis=0)) / np.sum(confusion_mat)\n",
        "\n",
        "def gini_index(y_true, y_pred):\n",
        "    confusion_mat = confusion_matrix(y_true, y_pred)\n",
        "    cluster_sizes = np.sum(confusion_mat, axis=0)\n",
        "    cluster_purities = np.amax(confusion_mat, axis=0) / cluster_sizes\n",
        "    return 1 - np.sum(cluster_purities**2)\n",
        "\n",
        "purity_mnist = purity_score(y_train_mnist, kmeans_mnist.labels)\n",
        "gini_mnist = gini_index(y_train_mnist, kmeans_mnist.labels)\n",
        "\n",
        "print(f\"Purity for MNIST (K=10): {purity_mnist}\")\n",
        "print(f\"Gini Index for MNIST (K=10): {gini_mnist}\")"
      ],
      "metadata": {
        "id": "wj-c9Bn_rrjT",
        "outputId": "7a303dd0-acad-427f-9d78-78110d45d64e",
        "colab": {
          "base_uri": "https://localhost:8080/"
        }
      },
      "execution_count": 5,
      "outputs": [
        {
          "output_type": "stream",
          "name": "stdout",
          "text": [
            "Purity for MNIST (K=10): 0.5828\n",
            "Gini Index for MNIST (K=10): -3.375299139898414\n"
          ]
        }
      ]
    }
  ]
}